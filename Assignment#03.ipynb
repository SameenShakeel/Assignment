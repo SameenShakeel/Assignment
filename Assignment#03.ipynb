{
 "cells": [
  {
   "cell_type": "markdown",
   "metadata": {},
   "source": [
    "# Assignment #03"
   ]
  },
  {
   "cell_type": "markdown",
   "metadata": {},
   "source": [
    "Submitted By: Sameen Shakeel\n",
    "\n",
    "Roll no: AIC030484\n",
    "\n",
    "Submitted To: Sir Nasir\n",
    "\n",
    "Center: Sindh Boy Scouts Association\n",
    "\n",
    "Time: 9 to 12"
   ]
  },
  {
   "cell_type": "markdown",
   "metadata": {},
   "source": [
    "# Q1:"
   ]
  },
  {
   "cell_type": "markdown",
   "metadata": {},
   "source": [
    "Think of at least three kinds of your favorite pizza. Store these pizza names in a list, and then use a for loop to print the name of each pizza."
   ]
  },
  {
   "cell_type": "code",
   "execution_count": 3,
   "metadata": {},
   "outputs": [
    {
     "name": "stdout",
     "output_type": "stream",
     "text": [
      "Creamy\n",
      "Cheesy\n",
      "Spicy\n"
     ]
    }
   ],
   "source": [
    "pizza = [\"Creamy\", \"Cheesy\", \"Spicy\"]\n",
    "for i in pizza:\n",
    "    print(i)"
   ]
  },
  {
   "cell_type": "markdown",
   "metadata": {},
   "source": [
    "# Q2 "
   ]
  },
  {
   "cell_type": "markdown",
   "metadata": {},
   "source": [
    "Start with your last question , Modify your for loop to print a sentence using the name of the pizza\n",
    "instead of printing just the name of the pizza. For each pizza you should\n",
    "have one line of output containing a simple statement like I like pepperoni\n",
    "pizza."
   ]
  },
  {
   "cell_type": "code",
   "execution_count": 5,
   "metadata": {},
   "outputs": [
    {
     "name": "stdout",
     "output_type": "stream",
     "text": [
      "I like Creamy Pizza\n",
      "I like Cheesy Pizza\n",
      "I like Spicy Pizza\n"
     ]
    }
   ],
   "source": [
    "for i in pizza:\n",
    "    print(f\"I like {i} Pizza\")"
   ]
  },
  {
   "cell_type": "markdown",
   "metadata": {},
   "source": [
    "# Q3:"
   ]
  },
  {
   "cell_type": "markdown",
   "metadata": {},
   "source": [
    "Use a for loop to print the numbers from 1 to 20,\n",
    "inclusive."
   ]
  },
  {
   "cell_type": "code",
   "execution_count": 6,
   "metadata": {},
   "outputs": [
    {
     "name": "stdout",
     "output_type": "stream",
     "text": [
      "1\n",
      "2\n",
      "3\n",
      "4\n",
      "5\n",
      "6\n",
      "7\n",
      "8\n",
      "9\n",
      "10\n",
      "11\n",
      "12\n",
      "13\n",
      "14\n",
      "15\n",
      "16\n",
      "17\n",
      "18\n",
      "19\n",
      "20\n"
     ]
    }
   ],
   "source": [
    "for i in range(1,21):\n",
    "    print(i)"
   ]
  },
  {
   "cell_type": "markdown",
   "metadata": {},
   "source": [
    "# Q4: "
   ]
  },
  {
   "cell_type": "markdown",
   "metadata": {},
   "source": [
    "Use the third argument of the range() function to make a list\n",
    "of the odd numbers from 1 to 20. Use a for loop to print each number."
   ]
  },
  {
   "cell_type": "code",
   "execution_count": 7,
   "metadata": {},
   "outputs": [
    {
     "name": "stdout",
     "output_type": "stream",
     "text": [
      "1\n",
      "3\n",
      "5\n",
      "7\n",
      "9\n",
      "11\n",
      "13\n",
      "15\n",
      "17\n",
      "19\n"
     ]
    }
   ],
   "source": [
    "for i in range(1,21,2):\n",
    "    print(i)"
   ]
  },
  {
   "cell_type": "markdown",
   "metadata": {},
   "source": [
    "# Q5:"
   ]
  },
  {
   "cell_type": "markdown",
   "metadata": {},
   "source": [
    "Make a list of the multiples of 3 from 3 to 30. Use a for loop to\n",
    "print the numbers in your list."
   ]
  },
  {
   "cell_type": "code",
   "execution_count": 8,
   "metadata": {},
   "outputs": [
    {
     "name": "stdout",
     "output_type": "stream",
     "text": [
      "[3, 6, 9, 12, 15, 18, 21, 24, 27, 30]\n"
     ]
    }
   ],
   "source": [
    "multiples_of_3 = [3, 6, 9, 12, 15, 18, 21, 24, 27, 30]\n",
    "result = []\n",
    "for i in multiples_of_3:\n",
    "    result.append(i)\n",
    "print(result)"
   ]
  },
  {
   "cell_type": "markdown",
   "metadata": {},
   "source": [
    "A number raised to the third power is called a cube. For example,\n",
    "the cube of 2 is written as 2**3 in Python. Make a list of the first 10 cubes (that\n",
    "is, the cube of each integer from 1 through 10), and use a for loop to print out\n",
    "the value of each cube"
   ]
  },
  {
   "cell_type": "code",
   "execution_count": 16,
   "metadata": {},
   "outputs": [
    {
     "name": "stdout",
     "output_type": "stream",
     "text": [
      "[1, 8, 27, 64, 125, 216, 343, 512, 729, 1000]\n"
     ]
    }
   ],
   "source": [
    "integers = [1, 2, 3, 4, 5, 6, 7, 8, 9, 10]\n",
    "cubes = []\n",
    "for i in integers:\n",
    "    cubes.append(i**3)\n",
    "print(cubes)"
   ]
  },
  {
   "cell_type": "markdown",
   "metadata": {},
   "source": [
    "# Q7:"
   ]
  },
  {
   "cell_type": "markdown",
   "metadata": {},
   "source": [
    "###### Make a python program that conatains your nine favourite dishes in a list called foods.\n",
    "\n",
    "###### Print the message, The first three items in the list are:. \n",
    "###### Then use a slice to print the first three items from that program’s list.\n",
    "\n",
    "###### Print the message, Three items from the middle of the list are:\n",
    "###### Use a slice to print three items from the middle of the list.\n",
    "\n",
    "###### Print the message, The last three items in the list are:\n",
    "###### Use a slice to print the last three items in the list."
   ]
  },
  {
   "cell_type": "code",
   "execution_count": 22,
   "metadata": {},
   "outputs": [
    {
     "name": "stdout",
     "output_type": "stream",
     "text": [
      "The first three items in the list are: \n",
      "['Biryani', 'Pizza', 'Burger']\n",
      "Three items from the middle of the list are: \n",
      "['Daal', 'Mix Sabzi', 'Khichri']\n",
      "The last three items in the list are: \n",
      "['Pulao', 'Kabab', 'Chocolate Cake']\n"
     ]
    }
   ],
   "source": [
    "foods = [\"Biryani\", \"Pizza\", \"Burger\", \"Daal\", \"Mix Sabzi\", \"Khichri\", \"Pulao\", \"Kabab\", \"Chocolate Cake\"]\n",
    "print(\"The first three items in the list are: \\n\"+str(foods[0:3]))\n",
    "print(\"Three items from the middle of the list are: \\n\"+str(foods[3:6]))\n",
    "print(\"The last three items in the list are: \\n\"+str(foods[6:9]))"
   ]
  },
  {
   "cell_type": "markdown",
   "metadata": {},
   "source": [
    "# Q8: "
   ]
  },
  {
   "cell_type": "markdown",
   "metadata": {},
   "source": [
    "### Start with your program from your last Question8.\n",
    "###### Make a copy of the list of foods, and call it friend_foods.\n",
    "###### Then, do the following:\n",
    "######    Add a new dish to the original list.\n",
    "######    Add a different dish to the list friend_foodss.\n",
    "######    Prove that you have two separate lists. \n",
    "###### Print the message, My favorite pizzas are: and then use a for loop to print the first list. \n",
    "###### Print the message,\n",
    "###### My friend’s favorite foods are:, and then use a for loop to print the second list.\n",
    "    \n",
    "##### NOTE: Make sure each new dish is stored in the appropriate list."
   ]
  },
  {
   "cell_type": "code",
   "execution_count": 41,
   "metadata": {},
   "outputs": [
    {
     "name": "stdout",
     "output_type": "stream",
     "text": [
      "My favorite pizzas are: \n",
      "\t Biryani\n",
      "\t Cheezy Pizza\n",
      "\t Burger\n",
      "\t Daal\n",
      "\t Mix Sabzi\n",
      "\t Khichri\n",
      "\t Pulao\n",
      "\t Kabab\n",
      "\t Chocolate Cake\n",
      "\t Chicken Kari\n",
      "My friends foods are: \n",
      "\t Biryani\n",
      "\t Cheezy Pizza\n",
      "\t Burger\n",
      "\t Daal\n",
      "\t Mix Sabzi\n",
      "\t Khichri\n",
      "\t Pulao\n",
      "\t Kabab\n",
      "\t Chocolate Cake\n",
      "\t Spicy Pizza\n"
     ]
    }
   ],
   "source": [
    "foods = [\"Biryani\", \"Cheezy Pizza\", \"Burger\", \"Daal\", \"Mix Sabzi\", \"Khichri\", \"Pulao\", \"Kabab\", \"Chocolate Cake\"]\n",
    "friend_foods = foods[:]\n",
    "foods.append(\"Chicken Kari\")\n",
    "friend_foods.append(\"Spicy Pizza\")\n",
    "print(\"My favorite pizzas are: \")\n",
    "for a in foods:\n",
    "    print(f\"\\t {a}\")\n",
    "print(\"My friends foods are: \")\n",
    "for b in friend_foods:\n",
    "    print(f\"\\t {b}\")"
   ]
  },
  {
   "cell_type": "markdown",
   "metadata": {},
   "source": [
    "# Q9:"
   ]
  },
  {
   "cell_type": "markdown",
   "metadata": {},
   "source": [
    "Take a user input from console line.Store it in a variable called Alien_color.\n",
    "\n",
    "If the alien’s color is red, print a statement that the player just earned 5 points for shooting the alien.\n",
    "\n",
    "If the alien’s color isn’t green, print a statement that the player just earned 10 points.\n",
    "\n",
    "If the alien's color isn't red or green , print a statment :, Alien is no more....."
   ]
  },
  {
   "cell_type": "code",
   "execution_count": 44,
   "metadata": {},
   "outputs": [
    {
     "name": "stdout",
     "output_type": "stream",
     "text": [
      "pink\n",
      "Alien is no more....\n"
     ]
    }
   ],
   "source": [
    "Alien_color = input()\n",
    "if Alien_color == \"red\":\n",
    "    print(\"You just earned 5 points for shooting alien\")\n",
    "elif Alien_color == \"green\":\n",
    "    print(\"You just earned 10 points\")\n",
    "elif Alien_color != \"red\" or Alien_color != \"green\":\n",
    "    print(\"Alien is no more....\")"
   ]
  },
  {
   "cell_type": "markdown",
   "metadata": {},
   "source": [
    "# Q10:"
   ]
  },
  {
   "cell_type": "markdown",
   "metadata": {},
   "source": [
    "Write an if-elif-else chain that determines a person’s\n",
    "stage of life. Set a value for the variable age, and then:\n",
    "    \n",
    "•\t If the person is less than 2 years old, print a message that the person is a baby.\n",
    "\n",
    "•\t If the person is at least 2 years old but less than 4, print a message that the person is a toddler.\n",
    "\n",
    "•\t If the person is at least 4 years old but less than 13, print a message that the person is a kid.\n",
    "\n",
    "•\t If the person is at least 13 years old but less than 20, print a message that the person is a teenager.\n",
    "\n",
    "•\t If the person is at least 20 years old but less than 65, print a message that the person is an adult.\n",
    "\n",
    "•\t If the person is age 65 or older, print a message that the person is an elder."
   ]
  },
  {
   "cell_type": "code",
   "execution_count": 54,
   "metadata": {},
   "outputs": [
    {
     "name": "stdout",
     "output_type": "stream",
     "text": [
      "Enter age: 70\n",
      "The person is an elder\n"
     ]
    }
   ],
   "source": [
    "age = int(input(\"Enter age: \"))\n",
    "if age<2:\n",
    "    print(\"The person is a baby\")\n",
    "elif age>=2 and age<4:\n",
    "    print(\"The person is a toddler\")\n",
    "elif age>=4 and age<13:\n",
    "    print(\"The person is a kid\")\n",
    "elif age>=13 and age<20:\n",
    "    print(\"The person is a teenager\")\n",
    "elif age>=20 and age<65:\n",
    "    print(\"The person is an adult\")\n",
    "elif age>=65:\n",
    "    print(\"The person is an elder\")"
   ]
  },
  {
   "cell_type": "markdown",
   "metadata": {},
   "source": [
    "# Q11:"
   ]
  },
  {
   "cell_type": "markdown",
   "metadata": {},
   "source": [
    "Do the following to create a program that simulates how websites ensure that everyone has a unique username.\n",
    "\n",
    "•\t Make a list of five or more usernames called current_users.\n",
    "\n",
    "•\t Make another list of five usernames called new_users. \n",
    "Make sure one or two of the new usernames are also in the current_users list.\n",
    "\n",
    "•\t Loop through the new_users list to see if each new username has already been used. \n",
    "If it has, print a message that the person will need to enter a new username. \n",
    "If a username has not been used, print a message saying that the username is available.\n",
    "\n",
    "•\t Make sure your comparison is case insensitive. If 'John' has been used, 'JOHN' should not be accepted."
   ]
  },
  {
   "cell_type": "code",
   "execution_count": 15,
   "metadata": {},
   "outputs": [
    {
     "name": "stdout",
     "output_type": "stream",
     "text": [
      "The entered Username is available\n",
      "The entered Username is available\n",
      "The Username you entered is already being used, Please Enter a new Username\n",
      "The entered Username is available\n",
      "The Username you entered is already being used, Please Enter a new Username\n"
     ]
    }
   ],
   "source": [
    "current_users = ['Sameen', 'Urooba', 'Ibad', 'Akber', 'Maryam']\n",
    "new_users = ['Soha', 'Komal', 'Urooba', 'Zooba', 'Ibad']\n",
    "for c in new_users:\n",
    "    if c in current_users:\n",
    "        print(\"The Username you entered is already being used, Please Enter a new Username\")\n",
    "    else:\n",
    "        print(\"The entered Username is available\")"
   ]
  },
  {
   "cell_type": "markdown",
   "metadata": {},
   "source": [
    "# Q12:"
   ]
  },
  {
   "cell_type": "markdown",
   "metadata": {},
   "source": [
    "Use a dictionary to store information about a person you know.\n",
    "Store their first name, last name, age, and the city in which they live. \n",
    "You should have keys such as first_name, last_name, age, and city. \n",
    "Print each piece of information stored in your dictionary"
   ]
  },
  {
   "cell_type": "code",
   "execution_count": 1,
   "metadata": {},
   "outputs": [
    {
     "name": "stdout",
     "output_type": "stream",
     "text": [
      "{'first_name': 'Urooba', 'last_name': 'Qadeer', 'age': 23, 'city': 'Karachi'}\n"
     ]
    }
   ],
   "source": [
    "dict = {'first_name':'Urooba', 'last_name':'Qadeer', 'age':23, 'city':'Karachi'}\n",
    "print(dict)"
   ]
  },
  {
   "cell_type": "markdown",
   "metadata": {},
   "source": [
    "# Q13:"
   ]
  },
  {
   "cell_type": "markdown",
   "metadata": {},
   "source": [
    "Starts with your last question 12 , loop through the dictionary’s keys and values.\n",
    "When you’re sure that your loop works, add five more Python terms to your\n",
    "dictionary . When you run your program again, these new words and meanings\n",
    "should automatically be included in the output."
   ]
  },
  {
   "cell_type": "code",
   "execution_count": 3,
   "metadata": {},
   "outputs": [
    {
     "name": "stdout",
     "output_type": "stream",
     "text": [
      "('first_name', 'Urooba')\n",
      "('last_name', 'Qadeer')\n",
      "('age', 23)\n",
      "('city', 'Karachi')\n",
      "('key', ['The first item in a key-value pair in a dictionary'])\n",
      "('value', ['An item associated with a key in a dictionary'])\n",
      "('string', ['A series of characters'])\n",
      "('comment', ['A note in a program that the Python interpreter ignores'])\n",
      "('dictionary', ['A collection of key-value pairs'])\n"
     ]
    }
   ],
   "source": [
    "dict['key'] = ['The first item in a key-value pair in a dictionary']\n",
    "dict['value'] = ['An item associated with a key in a dictionary']\n",
    "dict['string'] = ['A series of characters']\n",
    "dict['comment'] = ['A note in a program that the Python interpreter ignores']\n",
    "dict['dictionary'] = ['A collection of key-value pairs']\n",
    "for i in dict.items():\n",
    "    print(i)"
   ]
  },
  {
   "cell_type": "markdown",
   "metadata": {},
   "source": [
    "# Q14:"
   ]
  },
  {
   "cell_type": "markdown",
   "metadata": {},
   "source": [
    "Make a dictionary containing three major rivers and the country\n",
    "each river runs through. One key-value pair might be 'nile': 'egypt'.\n",
    "    \n",
    "    \n",
    "•\t Use a loop to print a sentence about each river, such as The Nile runs\n",
    "through Egypt.\n",
    "\n",
    "NOTE: use upper case through keys and values."
   ]
  },
  {
   "cell_type": "code",
   "execution_count": 6,
   "metadata": {},
   "outputs": [
    {
     "name": "stdout",
     "output_type": "stream",
     "text": [
      "The Nile runs through Egypt\n",
      "The Sepik runs through New Guinea\n",
      "The Mississippi runs through United States\n",
      "The Volga runs through Europe\n",
      "The Zambezi runs through Africa\n"
     ]
    }
   ],
   "source": [
    "river = {'nile':'egypt', 'sepik':'new guinea', 'mississippi':'united states', 'volga':'europe', 'zambezi':'africa'}\n",
    "for x,y  in river.items():\n",
    "    print(\"The \" + x.title() + \" runs through \" + y.title())"
   ]
  },
  {
   "cell_type": "markdown",
   "metadata": {},
   "source": [
    "# Q15:"
   ]
  },
  {
   "cell_type": "markdown",
   "metadata": {},
   "source": [
    "Make several dictionaries, where the name of each dictionary is the\n",
    "name of a pet. In each dictionary, include the kind of animal and the owner’s\n",
    "name. Store these dictionaries in a list called pets. Next, loop through your list\n",
    "and as you do print everything you know about each pet."
   ]
  },
  {
   "cell_type": "code",
   "execution_count": 3,
   "metadata": {},
   "outputs": [
    {
     "name": "stdout",
     "output_type": "stream",
     "text": [
      "This is what i know about Blue:\n",
      "\tanimal type: parrot\n",
      "\tname: blue\n",
      "\towner: Julie\n",
      "This is what i know about Motu:\n",
      "\tanimal type: cat\n",
      "\tname: motu\n",
      "\towner: Alan\n",
      "This is what i know about Carla:\n",
      "\tanimal type: cat\n",
      "\tname: carla\n",
      "\towner: Jessy\n"
     ]
    }
   ],
   "source": [
    "pets = []\n",
    "pet = {'animal type':'parrot',\n",
    "        'name':'blue',\n",
    "      'owner':'Julie'}\n",
    "pets.append(pet)\n",
    "pet = {'animal type':'cat',\n",
    "        'name':'motu',\n",
    "      'owner':'Alan'}\n",
    "pets.append(pet)\n",
    "pet = {'animal type':'cat',\n",
    "       'name':'carla',\n",
    "        'owner':'Jessy'}\n",
    "pets.append(pet)\n",
    "for pet in pets:\n",
    "    print(\"This is what i know about \" + pet['name'].title() + \":\")\n",
    "    for key, value in pet.items():\n",
    "        print(\"\\t\" + key + \": \" + value)"
   ]
  }
 ],
 "metadata": {
  "kernelspec": {
   "display_name": "Python 3",
   "language": "python",
   "name": "python3"
  },
  "language_info": {
   "codemirror_mode": {
    "name": "ipython",
    "version": 3
   },
   "file_extension": ".py",
   "mimetype": "text/x-python",
   "name": "python",
   "nbconvert_exporter": "python",
   "pygments_lexer": "ipython3",
   "version": "3.7.3"
  }
 },
 "nbformat": 4,
 "nbformat_minor": 2
}
